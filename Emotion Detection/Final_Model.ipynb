{
 "cells": [
  {
   "cell_type": "code",
   "execution_count": 1,
   "id": "b101021a",
   "metadata": {},
   "outputs": [],
   "source": [
    "from keras.utils import to_categorical\n",
    "from keras_preprocessing.image import load_img\n",
    "from keras.models import Sequential\n",
    "from keras.layers import Dense,Conv2D,Dropout, Flatten,MaxPooling2D\n",
    "import os\n",
    "import numpy as np\n",
    "import pandas as pd"
   ]
  },
  {
   "cell_type": "code",
   "execution_count": 2,
   "id": "8d294ddf",
   "metadata": {},
   "outputs": [],
   "source": [
    "Train_dir='Emotion/train'\n",
    "Test_dir='Emotion/test'"
   ]
  },
  {
   "cell_type": "code",
   "execution_count": 3,
   "id": "8ffe6465",
   "metadata": {},
   "outputs": [],
   "source": [
    "def createDataFrame(dir):\n",
    "    image_paths=[]\n",
    "    labels=[]\n",
    "    for label in os.listdir(dir):\n",
    "        for imagename in os.listdir(os.path.join(dir,label)):\n",
    "            image_paths.append(os.path.join(dir,label,imagename))\n",
    "            labels.append(label)\n",
    "        print(label,\"completed\")\n",
    "    return image_paths,labels"
   ]
  },
  {
   "cell_type": "code",
   "execution_count": 4,
   "id": "dd000e12",
   "metadata": {},
   "outputs": [
    {
     "name": "stdout",
     "output_type": "stream",
     "text": [
      "angry completed\n",
      "disgusted completed\n",
      "fearful completed\n",
      "happy completed\n",
      "neutral completed\n",
      "sad completed\n",
      "surprised completed\n"
     ]
    }
   ],
   "source": [
    "train=pd.DataFrame()\n",
    "train['image'],train['label']=createDataFrame(Train_dir)\n"
   ]
  },
  {
   "cell_type": "code",
   "execution_count": 5,
   "id": "ea056169",
   "metadata": {},
   "outputs": [
    {
     "data": {
      "text/html": [
       "<div>\n",
       "<style scoped>\n",
       "    .dataframe tbody tr th:only-of-type {\n",
       "        vertical-align: middle;\n",
       "    }\n",
       "\n",
       "    .dataframe tbody tr th {\n",
       "        vertical-align: top;\n",
       "    }\n",
       "\n",
       "    .dataframe thead th {\n",
       "        text-align: right;\n",
       "    }\n",
       "</style>\n",
       "<table border=\"1\" class=\"dataframe\">\n",
       "  <thead>\n",
       "    <tr style=\"text-align: right;\">\n",
       "      <th></th>\n",
       "      <th>image</th>\n",
       "      <th>label</th>\n",
       "    </tr>\n",
       "  </thead>\n",
       "  <tbody>\n",
       "    <tr>\n",
       "      <th>0</th>\n",
       "      <td>Emotion/train\\angry\\im0.png</td>\n",
       "      <td>angry</td>\n",
       "    </tr>\n",
       "    <tr>\n",
       "      <th>1</th>\n",
       "      <td>Emotion/train\\angry\\im1.png</td>\n",
       "      <td>angry</td>\n",
       "    </tr>\n",
       "    <tr>\n",
       "      <th>2</th>\n",
       "      <td>Emotion/train\\angry\\im10.png</td>\n",
       "      <td>angry</td>\n",
       "    </tr>\n",
       "    <tr>\n",
       "      <th>3</th>\n",
       "      <td>Emotion/train\\angry\\im100.png</td>\n",
       "      <td>angry</td>\n",
       "    </tr>\n",
       "    <tr>\n",
       "      <th>4</th>\n",
       "      <td>Emotion/train\\angry\\im1000.png</td>\n",
       "      <td>angry</td>\n",
       "    </tr>\n",
       "    <tr>\n",
       "      <th>...</th>\n",
       "      <td>...</td>\n",
       "      <td>...</td>\n",
       "    </tr>\n",
       "    <tr>\n",
       "      <th>28704</th>\n",
       "      <td>Emotion/train\\surprised\\im995.png</td>\n",
       "      <td>surprised</td>\n",
       "    </tr>\n",
       "    <tr>\n",
       "      <th>28705</th>\n",
       "      <td>Emotion/train\\surprised\\im996.png</td>\n",
       "      <td>surprised</td>\n",
       "    </tr>\n",
       "    <tr>\n",
       "      <th>28706</th>\n",
       "      <td>Emotion/train\\surprised\\im997.png</td>\n",
       "      <td>surprised</td>\n",
       "    </tr>\n",
       "    <tr>\n",
       "      <th>28707</th>\n",
       "      <td>Emotion/train\\surprised\\im998.png</td>\n",
       "      <td>surprised</td>\n",
       "    </tr>\n",
       "    <tr>\n",
       "      <th>28708</th>\n",
       "      <td>Emotion/train\\surprised\\im999.png</td>\n",
       "      <td>surprised</td>\n",
       "    </tr>\n",
       "  </tbody>\n",
       "</table>\n",
       "<p>28709 rows × 2 columns</p>\n",
       "</div>"
      ],
      "text/plain": [
       "                                   image      label\n",
       "0            Emotion/train\\angry\\im0.png      angry\n",
       "1            Emotion/train\\angry\\im1.png      angry\n",
       "2           Emotion/train\\angry\\im10.png      angry\n",
       "3          Emotion/train\\angry\\im100.png      angry\n",
       "4         Emotion/train\\angry\\im1000.png      angry\n",
       "...                                  ...        ...\n",
       "28704  Emotion/train\\surprised\\im995.png  surprised\n",
       "28705  Emotion/train\\surprised\\im996.png  surprised\n",
       "28706  Emotion/train\\surprised\\im997.png  surprised\n",
       "28707  Emotion/train\\surprised\\im998.png  surprised\n",
       "28708  Emotion/train\\surprised\\im999.png  surprised\n",
       "\n",
       "[28709 rows x 2 columns]"
      ]
     },
     "execution_count": 5,
     "metadata": {},
     "output_type": "execute_result"
    }
   ],
   "source": [
    "train"
   ]
  },
  {
   "cell_type": "code",
   "execution_count": 6,
   "id": "c7be3c0f",
   "metadata": {},
   "outputs": [
    {
     "name": "stdout",
     "output_type": "stream",
     "text": [
      "angry completed\n",
      "disgusted completed\n",
      "fearful completed\n",
      "happy completed\n",
      "neutral completed\n",
      "sad completed\n",
      "surprised completed\n"
     ]
    }
   ],
   "source": [
    "test=pd.DataFrame()\n",
    "test['image'],test['label']=createDataFrame(Test_dir)"
   ]
  },
  {
   "cell_type": "code",
   "execution_count": 7,
   "id": "7c646955",
   "metadata": {
    "scrolled": false
   },
   "outputs": [
    {
     "data": {
      "text/html": [
       "<div>\n",
       "<style scoped>\n",
       "    .dataframe tbody tr th:only-of-type {\n",
       "        vertical-align: middle;\n",
       "    }\n",
       "\n",
       "    .dataframe tbody tr th {\n",
       "        vertical-align: top;\n",
       "    }\n",
       "\n",
       "    .dataframe thead th {\n",
       "        text-align: right;\n",
       "    }\n",
       "</style>\n",
       "<table border=\"1\" class=\"dataframe\">\n",
       "  <thead>\n",
       "    <tr style=\"text-align: right;\">\n",
       "      <th></th>\n",
       "      <th>image</th>\n",
       "      <th>label</th>\n",
       "    </tr>\n",
       "  </thead>\n",
       "  <tbody>\n",
       "    <tr>\n",
       "      <th>0</th>\n",
       "      <td>Emotion/test\\angry\\im0.png</td>\n",
       "      <td>angry</td>\n",
       "    </tr>\n",
       "    <tr>\n",
       "      <th>1</th>\n",
       "      <td>Emotion/test\\angry\\im1.png</td>\n",
       "      <td>angry</td>\n",
       "    </tr>\n",
       "    <tr>\n",
       "      <th>2</th>\n",
       "      <td>Emotion/test\\angry\\im10.png</td>\n",
       "      <td>angry</td>\n",
       "    </tr>\n",
       "    <tr>\n",
       "      <th>3</th>\n",
       "      <td>Emotion/test\\angry\\im100.png</td>\n",
       "      <td>angry</td>\n",
       "    </tr>\n",
       "    <tr>\n",
       "      <th>4</th>\n",
       "      <td>Emotion/test\\angry\\im101.png</td>\n",
       "      <td>angry</td>\n",
       "    </tr>\n",
       "    <tr>\n",
       "      <th>...</th>\n",
       "      <td>...</td>\n",
       "      <td>...</td>\n",
       "    </tr>\n",
       "    <tr>\n",
       "      <th>7173</th>\n",
       "      <td>Emotion/test\\surprised\\im95.png</td>\n",
       "      <td>surprised</td>\n",
       "    </tr>\n",
       "    <tr>\n",
       "      <th>7174</th>\n",
       "      <td>Emotion/test\\surprised\\im96.png</td>\n",
       "      <td>surprised</td>\n",
       "    </tr>\n",
       "    <tr>\n",
       "      <th>7175</th>\n",
       "      <td>Emotion/test\\surprised\\im97.png</td>\n",
       "      <td>surprised</td>\n",
       "    </tr>\n",
       "    <tr>\n",
       "      <th>7176</th>\n",
       "      <td>Emotion/test\\surprised\\im98.png</td>\n",
       "      <td>surprised</td>\n",
       "    </tr>\n",
       "    <tr>\n",
       "      <th>7177</th>\n",
       "      <td>Emotion/test\\surprised\\im99.png</td>\n",
       "      <td>surprised</td>\n",
       "    </tr>\n",
       "  </tbody>\n",
       "</table>\n",
       "<p>7178 rows × 2 columns</p>\n",
       "</div>"
      ],
      "text/plain": [
       "                                image      label\n",
       "0          Emotion/test\\angry\\im0.png      angry\n",
       "1          Emotion/test\\angry\\im1.png      angry\n",
       "2         Emotion/test\\angry\\im10.png      angry\n",
       "3        Emotion/test\\angry\\im100.png      angry\n",
       "4        Emotion/test\\angry\\im101.png      angry\n",
       "...                               ...        ...\n",
       "7173  Emotion/test\\surprised\\im95.png  surprised\n",
       "7174  Emotion/test\\surprised\\im96.png  surprised\n",
       "7175  Emotion/test\\surprised\\im97.png  surprised\n",
       "7176  Emotion/test\\surprised\\im98.png  surprised\n",
       "7177  Emotion/test\\surprised\\im99.png  surprised\n",
       "\n",
       "[7178 rows x 2 columns]"
      ]
     },
     "execution_count": 7,
     "metadata": {},
     "output_type": "execute_result"
    }
   ],
   "source": [
    "test"
   ]
  },
  {
   "cell_type": "code",
   "execution_count": 8,
   "id": "e1202a5b",
   "metadata": {},
   "outputs": [],
   "source": [
    "from tqdm.notebook import tqdm"
   ]
  },
  {
   "cell_type": "code",
   "execution_count": 9,
   "id": "c36fd612",
   "metadata": {},
   "outputs": [],
   "source": [
    "def extract_features(images):\n",
    "    features=[]\n",
    "    for image in tqdm(images):\n",
    "        img=load_img(image,grayscale=True)\n",
    "        img=np.array(img)\n",
    "        features.append(img)\n",
    "    features=np.array(features)\n",
    "    features=features.reshape(len(features),48,48,1)\n",
    "    return features\n",
    "    "
   ]
  },
  {
   "cell_type": "code",
   "execution_count": 10,
   "id": "c4b0206d",
   "metadata": {},
   "outputs": [
    {
     "data": {
      "application/vnd.jupyter.widget-view+json": {
       "model_id": "fcfee53dcf9a431b96534ccd1c4974dc",
       "version_major": 2,
       "version_minor": 0
      },
      "text/plain": [
       "  0%|          | 0/28709 [00:00<?, ?it/s]"
      ]
     },
     "metadata": {},
     "output_type": "display_data"
    },
    {
     "name": "stderr",
     "output_type": "stream",
     "text": [
      "C:\\Users\\agarw\\AppData\\Local\\Programs\\Python\\Python311\\Lib\\site-packages\\keras_preprocessing\\image\\utils.py:107: UserWarning: grayscale is deprecated. Please use color_mode = \"grayscale\"\n",
      "  warnings.warn('grayscale is deprecated. Please use '\n"
     ]
    }
   ],
   "source": [
    "train_features=extract_features(train['image'])"
   ]
  },
  {
   "cell_type": "code",
   "execution_count": 11,
   "id": "e7e3307a",
   "metadata": {},
   "outputs": [
    {
     "data": {
      "application/vnd.jupyter.widget-view+json": {
       "model_id": "4ffcb933489841d78febeee0fec6a4c0",
       "version_major": 2,
       "version_minor": 0
      },
      "text/plain": [
       "  0%|          | 0/7178 [00:00<?, ?it/s]"
      ]
     },
     "metadata": {},
     "output_type": "display_data"
    }
   ],
   "source": [
    "test_features=extract_features(test['image'])"
   ]
  },
  {
   "cell_type": "code",
   "execution_count": 12,
   "id": "967cb947",
   "metadata": {},
   "outputs": [],
   "source": [
    "X_train=train_features/255.0\n",
    "X_test=test_features/255.0"
   ]
  },
  {
   "cell_type": "code",
   "execution_count": 13,
   "id": "d95b9fcc",
   "metadata": {},
   "outputs": [
    {
     "data": {
      "text/plain": [
       "array([[[[0.2745098 ],\n",
       "         [0.31372549],\n",
       "         [0.32156863],\n",
       "         ...,\n",
       "         [0.20392157],\n",
       "         [0.16862745],\n",
       "         [0.16078431]],\n",
       "\n",
       "        [[0.25490196],\n",
       "         [0.23921569],\n",
       "         [0.22745098],\n",
       "         ...,\n",
       "         [0.21960784],\n",
       "         [0.20392157],\n",
       "         [0.17254902]],\n",
       "\n",
       "        [[0.19607843],\n",
       "         [0.16862745],\n",
       "         [0.21176471],\n",
       "         ...,\n",
       "         [0.19215686],\n",
       "         [0.21960784],\n",
       "         [0.18431373]],\n",
       "\n",
       "        ...,\n",
       "\n",
       "        [[0.35686275],\n",
       "         [0.25490196],\n",
       "         [0.16470588],\n",
       "         ...,\n",
       "         [0.28235294],\n",
       "         [0.21960784],\n",
       "         [0.16862745]],\n",
       "\n",
       "        [[0.30196078],\n",
       "         [0.32156863],\n",
       "         [0.30980392],\n",
       "         ...,\n",
       "         [0.41176471],\n",
       "         [0.2745098 ],\n",
       "         [0.18039216]],\n",
       "\n",
       "        [[0.30196078],\n",
       "         [0.28235294],\n",
       "         [0.32941176],\n",
       "         ...,\n",
       "         [0.41568627],\n",
       "         [0.42745098],\n",
       "         [0.32156863]]],\n",
       "\n",
       "\n",
       "       [[[0.59215686],\n",
       "         [0.58823529],\n",
       "         [0.57647059],\n",
       "         ...,\n",
       "         [0.50588235],\n",
       "         [0.54901961],\n",
       "         [0.47058824]],\n",
       "\n",
       "        [[0.59215686],\n",
       "         [0.58431373],\n",
       "         [0.58431373],\n",
       "         ...,\n",
       "         [0.47843137],\n",
       "         [0.55294118],\n",
       "         [0.5372549 ]],\n",
       "\n",
       "        [[0.59215686],\n",
       "         [0.59215686],\n",
       "         [0.61176471],\n",
       "         ...,\n",
       "         [0.42745098],\n",
       "         [0.48235294],\n",
       "         [0.57254902]],\n",
       "\n",
       "        ...,\n",
       "\n",
       "        [[0.7372549 ],\n",
       "         [0.7372549 ],\n",
       "         [0.4745098 ],\n",
       "         ...,\n",
       "         [0.7254902 ],\n",
       "         [0.7254902 ],\n",
       "         [0.72941176]],\n",
       "\n",
       "        [[0.7372549 ],\n",
       "         [0.73333333],\n",
       "         [0.76862745],\n",
       "         ...,\n",
       "         [0.72941176],\n",
       "         [0.71372549],\n",
       "         [0.73333333]],\n",
       "\n",
       "        [[0.72941176],\n",
       "         [0.72156863],\n",
       "         [0.7254902 ],\n",
       "         ...,\n",
       "         [0.75686275],\n",
       "         [0.71764706],\n",
       "         [0.72156863]]],\n",
       "\n",
       "\n",
       "       [[[0.45882353],\n",
       "         [0.45490196],\n",
       "         [0.44313725],\n",
       "         ...,\n",
       "         [0.17647059],\n",
       "         [0.17647059],\n",
       "         [0.17647059]],\n",
       "\n",
       "        [[0.4627451 ],\n",
       "         [0.45490196],\n",
       "         [0.44705882],\n",
       "         ...,\n",
       "         [0.18039216],\n",
       "         [0.18039216],\n",
       "         [0.17647059]],\n",
       "\n",
       "        [[0.4627451 ],\n",
       "         [0.45882353],\n",
       "         [0.45098039],\n",
       "         ...,\n",
       "         [0.17647059],\n",
       "         [0.18039216],\n",
       "         [0.18039216]],\n",
       "\n",
       "        ...,\n",
       "\n",
       "        [[0.11764706],\n",
       "         [0.11372549],\n",
       "         [0.11372549],\n",
       "         ...,\n",
       "         [0.22745098],\n",
       "         [0.21568627],\n",
       "         [0.21568627]],\n",
       "\n",
       "        [[0.12156863],\n",
       "         [0.10980392],\n",
       "         [0.10980392],\n",
       "         ...,\n",
       "         [0.19607843],\n",
       "         [0.20392157],\n",
       "         [0.21176471]],\n",
       "\n",
       "        [[0.12941176],\n",
       "         [0.10980392],\n",
       "         [0.10980392],\n",
       "         ...,\n",
       "         [0.18039216],\n",
       "         [0.18431373],\n",
       "         [0.19215686]]],\n",
       "\n",
       "\n",
       "       ...,\n",
       "\n",
       "\n",
       "       [[[0.03921569],\n",
       "         [0.0627451 ],\n",
       "         [0.0745098 ],\n",
       "         ...,\n",
       "         [0.63529412],\n",
       "         [0.56470588],\n",
       "         [0.46666667]],\n",
       "\n",
       "        [[0.05098039],\n",
       "         [0.0627451 ],\n",
       "         [0.08235294],\n",
       "         ...,\n",
       "         [0.64705882],\n",
       "         [0.60392157],\n",
       "         [0.50196078]],\n",
       "\n",
       "        [[0.05490196],\n",
       "         [0.06666667],\n",
       "         [0.0745098 ],\n",
       "         ...,\n",
       "         [0.65882353],\n",
       "         [0.64705882],\n",
       "         [0.53333333]],\n",
       "\n",
       "        ...,\n",
       "\n",
       "        [[0.05490196],\n",
       "         [0.13333333],\n",
       "         [0.14509804],\n",
       "         ...,\n",
       "         [0.69019608],\n",
       "         [0.64313725],\n",
       "         [0.61176471]],\n",
       "\n",
       "        [[0.05882353],\n",
       "         [0.07058824],\n",
       "         [0.16470588],\n",
       "         ...,\n",
       "         [0.67843137],\n",
       "         [0.63921569],\n",
       "         [0.60784314]],\n",
       "\n",
       "        [[0.08235294],\n",
       "         [0.01960784],\n",
       "         [0.12156863],\n",
       "         ...,\n",
       "         [0.68235294],\n",
       "         [0.62352941],\n",
       "         [0.57647059]]],\n",
       "\n",
       "\n",
       "       [[[0.55294118],\n",
       "         [0.58039216],\n",
       "         [0.61176471],\n",
       "         ...,\n",
       "         [0.77254902],\n",
       "         [0.75686275],\n",
       "         [0.75686275]],\n",
       "\n",
       "        [[0.58431373],\n",
       "         [0.59607843],\n",
       "         [0.63137255],\n",
       "         ...,\n",
       "         [0.77254902],\n",
       "         [0.76078431],\n",
       "         [0.76078431]],\n",
       "\n",
       "        [[0.61176471],\n",
       "         [0.62745098],\n",
       "         [0.65882353],\n",
       "         ...,\n",
       "         [0.78039216],\n",
       "         [0.77254902],\n",
       "         [0.77254902]],\n",
       "\n",
       "        ...,\n",
       "\n",
       "        [[0.39215686],\n",
       "         [0.35294118],\n",
       "         [0.29019608],\n",
       "         ...,\n",
       "         [0.87843137],\n",
       "         [0.8745098 ],\n",
       "         [0.8745098 ]],\n",
       "\n",
       "        [[0.3254902 ],\n",
       "         [0.25882353],\n",
       "         [0.28627451],\n",
       "         ...,\n",
       "         [0.87058824],\n",
       "         [0.86666667],\n",
       "         [0.8627451 ]],\n",
       "\n",
       "        [[0.23529412],\n",
       "         [0.22352941],\n",
       "         [0.27058824],\n",
       "         ...,\n",
       "         [0.86666667],\n",
       "         [0.85490196],\n",
       "         [0.85490196]]],\n",
       "\n",
       "\n",
       "       [[[0.47058824],\n",
       "         [0.47058824],\n",
       "         [0.48627451],\n",
       "         ...,\n",
       "         [0.30588235],\n",
       "         [0.20392157],\n",
       "         [0.16862745]],\n",
       "\n",
       "        [[0.4627451 ],\n",
       "         [0.4745098 ],\n",
       "         [0.48627451],\n",
       "         ...,\n",
       "         [0.34117647],\n",
       "         [0.25882353],\n",
       "         [0.16862745]],\n",
       "\n",
       "        [[0.4627451 ],\n",
       "         [0.4627451 ],\n",
       "         [0.48627451],\n",
       "         ...,\n",
       "         [0.37647059],\n",
       "         [0.31372549],\n",
       "         [0.21568627]],\n",
       "\n",
       "        ...,\n",
       "\n",
       "        [[0.7254902 ],\n",
       "         [0.63529412],\n",
       "         [0.51372549],\n",
       "         ...,\n",
       "         [0.7372549 ],\n",
       "         [0.79215686],\n",
       "         [0.8       ]],\n",
       "\n",
       "        [[0.76862745],\n",
       "         [0.7254902 ],\n",
       "         [0.61176471],\n",
       "         ...,\n",
       "         [0.69803922],\n",
       "         [0.7372549 ],\n",
       "         [0.78039216]],\n",
       "\n",
       "        [[0.81176471],\n",
       "         [0.77647059],\n",
       "         [0.70588235],\n",
       "         ...,\n",
       "         [0.7254902 ],\n",
       "         [0.70588235],\n",
       "         [0.71764706]]]])"
      ]
     },
     "execution_count": 13,
     "metadata": {},
     "output_type": "execute_result"
    }
   ],
   "source": [
    "X_train"
   ]
  },
  {
   "cell_type": "code",
   "execution_count": 14,
   "id": "15e67161",
   "metadata": {},
   "outputs": [],
   "source": [
    "from sklearn.preprocessing import LabelEncoder"
   ]
  },
  {
   "cell_type": "code",
   "execution_count": 15,
   "id": "d65801c8",
   "metadata": {},
   "outputs": [
    {
     "data": {
      "text/html": [
       "<style>#sk-container-id-1 {color: black;}#sk-container-id-1 pre{padding: 0;}#sk-container-id-1 div.sk-toggleable {background-color: white;}#sk-container-id-1 label.sk-toggleable__label {cursor: pointer;display: block;width: 100%;margin-bottom: 0;padding: 0.3em;box-sizing: border-box;text-align: center;}#sk-container-id-1 label.sk-toggleable__label-arrow:before {content: \"▸\";float: left;margin-right: 0.25em;color: #696969;}#sk-container-id-1 label.sk-toggleable__label-arrow:hover:before {color: black;}#sk-container-id-1 div.sk-estimator:hover label.sk-toggleable__label-arrow:before {color: black;}#sk-container-id-1 div.sk-toggleable__content {max-height: 0;max-width: 0;overflow: hidden;text-align: left;background-color: #f0f8ff;}#sk-container-id-1 div.sk-toggleable__content pre {margin: 0.2em;color: black;border-radius: 0.25em;background-color: #f0f8ff;}#sk-container-id-1 input.sk-toggleable__control:checked~div.sk-toggleable__content {max-height: 200px;max-width: 100%;overflow: auto;}#sk-container-id-1 input.sk-toggleable__control:checked~label.sk-toggleable__label-arrow:before {content: \"▾\";}#sk-container-id-1 div.sk-estimator input.sk-toggleable__control:checked~label.sk-toggleable__label {background-color: #d4ebff;}#sk-container-id-1 div.sk-label input.sk-toggleable__control:checked~label.sk-toggleable__label {background-color: #d4ebff;}#sk-container-id-1 input.sk-hidden--visually {border: 0;clip: rect(1px 1px 1px 1px);clip: rect(1px, 1px, 1px, 1px);height: 1px;margin: -1px;overflow: hidden;padding: 0;position: absolute;width: 1px;}#sk-container-id-1 div.sk-estimator {font-family: monospace;background-color: #f0f8ff;border: 1px dotted black;border-radius: 0.25em;box-sizing: border-box;margin-bottom: 0.5em;}#sk-container-id-1 div.sk-estimator:hover {background-color: #d4ebff;}#sk-container-id-1 div.sk-parallel-item::after {content: \"\";width: 100%;border-bottom: 1px solid gray;flex-grow: 1;}#sk-container-id-1 div.sk-label:hover label.sk-toggleable__label {background-color: #d4ebff;}#sk-container-id-1 div.sk-serial::before {content: \"\";position: absolute;border-left: 1px solid gray;box-sizing: border-box;top: 0;bottom: 0;left: 50%;z-index: 0;}#sk-container-id-1 div.sk-serial {display: flex;flex-direction: column;align-items: center;background-color: white;padding-right: 0.2em;padding-left: 0.2em;position: relative;}#sk-container-id-1 div.sk-item {position: relative;z-index: 1;}#sk-container-id-1 div.sk-parallel {display: flex;align-items: stretch;justify-content: center;background-color: white;position: relative;}#sk-container-id-1 div.sk-item::before, #sk-container-id-1 div.sk-parallel-item::before {content: \"\";position: absolute;border-left: 1px solid gray;box-sizing: border-box;top: 0;bottom: 0;left: 50%;z-index: -1;}#sk-container-id-1 div.sk-parallel-item {display: flex;flex-direction: column;z-index: 1;position: relative;background-color: white;}#sk-container-id-1 div.sk-parallel-item:first-child::after {align-self: flex-end;width: 50%;}#sk-container-id-1 div.sk-parallel-item:last-child::after {align-self: flex-start;width: 50%;}#sk-container-id-1 div.sk-parallel-item:only-child::after {width: 0;}#sk-container-id-1 div.sk-dashed-wrapped {border: 1px dashed gray;margin: 0 0.4em 0.5em 0.4em;box-sizing: border-box;padding-bottom: 0.4em;background-color: white;}#sk-container-id-1 div.sk-label label {font-family: monospace;font-weight: bold;display: inline-block;line-height: 1.2em;}#sk-container-id-1 div.sk-label-container {text-align: center;}#sk-container-id-1 div.sk-container {/* jupyter's `normalize.less` sets `[hidden] { display: none; }` but bootstrap.min.css set `[hidden] { display: none !important; }` so we also need the `!important` here to be able to override the default hidden behavior on the sphinx rendered scikit-learn.org. See: https://github.com/scikit-learn/scikit-learn/issues/21755 */display: inline-block !important;position: relative;}#sk-container-id-1 div.sk-text-repr-fallback {display: none;}</style><div id=\"sk-container-id-1\" class=\"sk-top-container\"><div class=\"sk-text-repr-fallback\"><pre>LabelEncoder()</pre><b>In a Jupyter environment, please rerun this cell to show the HTML representation or trust the notebook. <br />On GitHub, the HTML representation is unable to render, please try loading this page with nbviewer.org.</b></div><div class=\"sk-container\" hidden><div class=\"sk-item\"><div class=\"sk-estimator sk-toggleable\"><input class=\"sk-toggleable__control sk-hidden--visually\" id=\"sk-estimator-id-1\" type=\"checkbox\" checked><label for=\"sk-estimator-id-1\" class=\"sk-toggleable__label sk-toggleable__label-arrow\">LabelEncoder</label><div class=\"sk-toggleable__content\"><pre>LabelEncoder()</pre></div></div></div></div></div>"
      ],
      "text/plain": [
       "LabelEncoder()"
      ]
     },
     "execution_count": 15,
     "metadata": {},
     "output_type": "execute_result"
    }
   ],
   "source": [
    "le=LabelEncoder()\n",
    "le.fit(train['label'])"
   ]
  },
  {
   "cell_type": "code",
   "execution_count": 16,
   "id": "08b39093",
   "metadata": {},
   "outputs": [],
   "source": [
    "y_train=le.transform(train['label'])\n",
    "y_test=le.transform(test['label'])"
   ]
  },
  {
   "cell_type": "code",
   "execution_count": 17,
   "id": "d9f3d364",
   "metadata": {},
   "outputs": [],
   "source": [
    "y_train=to_categorical(y_train,num_classes=7)\n",
    "y_test=to_categorical(y_test,num_classes=7)"
   ]
  },
  {
   "cell_type": "code",
   "execution_count": 18,
   "id": "04780a35",
   "metadata": {},
   "outputs": [],
   "source": [
    "model=Sequential()"
   ]
  },
  {
   "cell_type": "code",
   "execution_count": 19,
   "id": "3fa81e66",
   "metadata": {},
   "outputs": [
    {
     "data": {
      "text/plain": [
       "<bound method Model.summary of <keras.src.engine.sequential.Sequential object at 0x000001EFE5B4E210>>"
      ]
     },
     "execution_count": 19,
     "metadata": {},
     "output_type": "execute_result"
    }
   ],
   "source": [
    "model.summary"
   ]
  },
  {
   "cell_type": "code",
   "execution_count": 20,
   "id": "b836de6e",
   "metadata": {},
   "outputs": [],
   "source": [
    "model=Sequential()\n",
    "# conolutional layers\n",
    "model.add(Conv2D(128,kernel_size=(3,3), activation='relu',input_shape=(48,48,1)))\n",
    "model.add(MaxPooling2D(pool_size=(2,2)))\n",
    "model.add(Dropout(0.4))\n",
    "\n",
    "model.add(Conv2D(256,kernel_size=(3,3), activation='relu'))\n",
    "model.add(MaxPooling2D(pool_size=(2,2)))\n",
    "model.add(Dropout(0.4))\n",
    "\n",
    "model.add(Conv2D(512,kernel_size=(3,3), activation='relu'))\n",
    "model.add(MaxPooling2D(pool_size=(2,2)))\n",
    "model.add(Dropout(0.4))\n",
    "\n",
    "model.add(Conv2D(512,kernel_size=(3,3), activation='relu'))\n",
    "model.add(MaxPooling2D(pool_size=(2,2)))\n",
    "model.add(Dropout(0.4))\n",
    "\n",
    "model.add(Flatten())\n",
    "\n",
    "# fully connected layers\n",
    "model.add(Dense(512,activation='relu'))\n",
    "model.add(Dropout(0.4))\n",
    "model.add(Dense(256,activation='relu'))\n",
    "model.add(Dropout(0.3))\n",
    "\n",
    "# output layer\n",
    "model.add(Dense(7, activation='softmax'))"
   ]
  },
  {
   "cell_type": "code",
   "execution_count": 21,
   "id": "079861f2",
   "metadata": {},
   "outputs": [],
   "source": [
    "model.compile(optimizer='adam',loss= 'categorical_crossentropy', metrics='accuracy')"
   ]
  },
  {
   "cell_type": "code",
   "execution_count": 22,
   "id": "59ecf558",
   "metadata": {},
   "outputs": [
    {
     "name": "stdout",
     "output_type": "stream",
     "text": [
      "Epoch 1/100\n",
      "225/225 [==============================] - 448s 2s/step - loss: 1.8240 - accuracy: 0.2473 - val_loss: 1.8170 - val_accuracy: 0.2471\n",
      "Epoch 2/100\n",
      "225/225 [==============================] - 452s 2s/step - loss: 1.8060 - accuracy: 0.2527 - val_loss: 1.7938 - val_accuracy: 0.2501\n",
      "Epoch 3/100\n",
      "225/225 [==============================] - 404s 2s/step - loss: 1.7509 - accuracy: 0.2768 - val_loss: 1.6912 - val_accuracy: 0.2953\n",
      "Epoch 4/100\n",
      "225/225 [==============================] - 324s 1s/step - loss: 1.6628 - accuracy: 0.3334 - val_loss: 1.5711 - val_accuracy: 0.3671\n",
      "Epoch 5/100\n",
      "225/225 [==============================] - 317s 1s/step - loss: 1.5466 - accuracy: 0.3948 - val_loss: 1.4329 - val_accuracy: 0.4461\n",
      "Epoch 6/100\n",
      "225/225 [==============================] - 319s 1s/step - loss: 1.4631 - accuracy: 0.4364 - val_loss: 1.3442 - val_accuracy: 0.4848\n",
      "Epoch 7/100\n",
      "225/225 [==============================] - 308s 1s/step - loss: 1.4128 - accuracy: 0.4535 - val_loss: 1.3099 - val_accuracy: 0.4909\n",
      "Epoch 8/100\n",
      "225/225 [==============================] - 318s 1s/step - loss: 1.3728 - accuracy: 0.4745 - val_loss: 1.2760 - val_accuracy: 0.5086\n",
      "Epoch 9/100\n",
      "225/225 [==============================] - 311s 1s/step - loss: 1.3408 - accuracy: 0.4873 - val_loss: 1.2400 - val_accuracy: 0.5195\n",
      "Epoch 10/100\n",
      "225/225 [==============================] - 312s 1s/step - loss: 1.3159 - accuracy: 0.4990 - val_loss: 1.2105 - val_accuracy: 0.5344\n",
      "Epoch 11/100\n",
      "225/225 [==============================] - 309s 1s/step - loss: 1.2928 - accuracy: 0.5069 - val_loss: 1.2158 - val_accuracy: 0.5305\n",
      "Epoch 12/100\n",
      "225/225 [==============================] - 314s 1s/step - loss: 1.2771 - accuracy: 0.5157 - val_loss: 1.1840 - val_accuracy: 0.5467\n",
      "Epoch 13/100\n",
      "225/225 [==============================] - 314s 1s/step - loss: 1.2532 - accuracy: 0.5234 - val_loss: 1.1754 - val_accuracy: 0.5507\n",
      "Epoch 14/100\n",
      "225/225 [==============================] - 312s 1s/step - loss: 1.2433 - accuracy: 0.5280 - val_loss: 1.1594 - val_accuracy: 0.5532\n",
      "Epoch 15/100\n",
      "225/225 [==============================] - 317s 1s/step - loss: 1.2226 - accuracy: 0.5338 - val_loss: 1.1375 - val_accuracy: 0.5694\n",
      "Epoch 16/100\n",
      "225/225 [==============================] - 309s 1s/step - loss: 1.2060 - accuracy: 0.5427 - val_loss: 1.1258 - val_accuracy: 0.5716\n",
      "Epoch 17/100\n",
      "225/225 [==============================] - 310s 1s/step - loss: 1.1959 - accuracy: 0.5460 - val_loss: 1.1288 - val_accuracy: 0.5713\n",
      "Epoch 18/100\n",
      "225/225 [==============================] - 314s 1s/step - loss: 1.1793 - accuracy: 0.5540 - val_loss: 1.1190 - val_accuracy: 0.5733\n",
      "Epoch 19/100\n",
      "225/225 [==============================] - 316s 1s/step - loss: 1.1811 - accuracy: 0.5552 - val_loss: 1.1268 - val_accuracy: 0.5662\n",
      "Epoch 20/100\n",
      "225/225 [==============================] - 312s 1s/step - loss: 1.1682 - accuracy: 0.5569 - val_loss: 1.1033 - val_accuracy: 0.5758\n",
      "Epoch 21/100\n",
      "225/225 [==============================] - 307s 1s/step - loss: 1.1515 - accuracy: 0.5640 - val_loss: 1.0979 - val_accuracy: 0.5794\n",
      "Epoch 22/100\n",
      "225/225 [==============================] - 307s 1s/step - loss: 1.1465 - accuracy: 0.5637 - val_loss: 1.0978 - val_accuracy: 0.5821\n",
      "Epoch 23/100\n",
      "225/225 [==============================] - 307s 1s/step - loss: 1.1412 - accuracy: 0.5696 - val_loss: 1.0918 - val_accuracy: 0.5819\n",
      "Epoch 24/100\n",
      "225/225 [==============================] - 308s 1s/step - loss: 1.1175 - accuracy: 0.5785 - val_loss: 1.0866 - val_accuracy: 0.5841\n",
      "Epoch 25/100\n",
      "225/225 [==============================] - 307s 1s/step - loss: 1.1230 - accuracy: 0.5753 - val_loss: 1.0850 - val_accuracy: 0.5860\n",
      "Epoch 26/100\n",
      "225/225 [==============================] - 312s 1s/step - loss: 1.1017 - accuracy: 0.5818 - val_loss: 1.0868 - val_accuracy: 0.5847\n",
      "Epoch 27/100\n",
      "225/225 [==============================] - 311s 1s/step - loss: 1.1068 - accuracy: 0.5870 - val_loss: 1.0682 - val_accuracy: 0.5926\n",
      "Epoch 28/100\n",
      "225/225 [==============================] - 309s 1s/step - loss: 1.0947 - accuracy: 0.5900 - val_loss: 1.0844 - val_accuracy: 0.5949\n",
      "Epoch 29/100\n",
      "225/225 [==============================] - 325s 1s/step - loss: 1.0858 - accuracy: 0.5909 - val_loss: 1.0737 - val_accuracy: 0.5904\n",
      "Epoch 30/100\n",
      "225/225 [==============================] - 307s 1s/step - loss: 1.0743 - accuracy: 0.5962 - val_loss: 1.0618 - val_accuracy: 0.5943\n",
      "Epoch 31/100\n",
      "225/225 [==============================] - 310s 1s/step - loss: 1.0667 - accuracy: 0.5979 - val_loss: 1.0517 - val_accuracy: 0.6014\n",
      "Epoch 32/100\n",
      "225/225 [==============================] - 309s 1s/step - loss: 1.0672 - accuracy: 0.6015 - val_loss: 1.0601 - val_accuracy: 0.6024\n",
      "Epoch 33/100\n",
      "225/225 [==============================] - 308s 1s/step - loss: 1.0571 - accuracy: 0.6018 - val_loss: 1.0674 - val_accuracy: 0.5882\n",
      "Epoch 34/100\n",
      "225/225 [==============================] - 308s 1s/step - loss: 1.0523 - accuracy: 0.6043 - val_loss: 1.0532 - val_accuracy: 0.6007\n",
      "Epoch 35/100\n",
      "225/225 [==============================] - 310s 1s/step - loss: 1.0468 - accuracy: 0.6072 - val_loss: 1.0542 - val_accuracy: 0.6000\n",
      "Epoch 36/100\n",
      "225/225 [==============================] - 307s 1s/step - loss: 1.0395 - accuracy: 0.6105 - val_loss: 1.0461 - val_accuracy: 0.6046\n",
      "Epoch 37/100\n",
      "225/225 [==============================] - 307s 1s/step - loss: 1.0354 - accuracy: 0.6098 - val_loss: 1.0617 - val_accuracy: 0.6039\n",
      "Epoch 38/100\n",
      "225/225 [==============================] - 317s 1s/step - loss: 1.0261 - accuracy: 0.6141 - val_loss: 1.0440 - val_accuracy: 0.6080\n",
      "Epoch 39/100\n",
      "225/225 [==============================] - 309s 1s/step - loss: 1.0181 - accuracy: 0.6171 - val_loss: 1.0496 - val_accuracy: 0.6042\n",
      "Epoch 40/100\n",
      "225/225 [==============================] - 309s 1s/step - loss: 1.0142 - accuracy: 0.6213 - val_loss: 1.0440 - val_accuracy: 0.6091\n",
      "Epoch 41/100\n",
      "225/225 [==============================] - 310s 1s/step - loss: 1.0076 - accuracy: 0.6251 - val_loss: 1.0481 - val_accuracy: 0.6041\n",
      "Epoch 42/100\n",
      "225/225 [==============================] - 308s 1s/step - loss: 1.0015 - accuracy: 0.6261 - val_loss: 1.0446 - val_accuracy: 0.6053\n",
      "Epoch 43/100\n",
      "225/225 [==============================] - 309s 1s/step - loss: 0.9894 - accuracy: 0.6307 - val_loss: 1.0439 - val_accuracy: 0.6088\n",
      "Epoch 44/100\n",
      "225/225 [==============================] - 308s 1s/step - loss: 0.9903 - accuracy: 0.6290 - val_loss: 1.0415 - val_accuracy: 0.6098\n",
      "Epoch 45/100\n",
      "225/225 [==============================] - 306s 1s/step - loss: 0.9835 - accuracy: 0.6302 - val_loss: 1.0496 - val_accuracy: 0.6145\n",
      "Epoch 46/100\n",
      "225/225 [==============================] - 309s 1s/step - loss: 0.9756 - accuracy: 0.6335 - val_loss: 1.0414 - val_accuracy: 0.6106\n",
      "Epoch 47/100\n",
      "225/225 [==============================] - 312s 1s/step - loss: 0.9722 - accuracy: 0.6398 - val_loss: 1.0390 - val_accuracy: 0.6140\n",
      "Epoch 48/100\n",
      "225/225 [==============================] - 308s 1s/step - loss: 0.9709 - accuracy: 0.6363 - val_loss: 1.0364 - val_accuracy: 0.6089\n",
      "Epoch 49/100\n",
      "225/225 [==============================] - 310s 1s/step - loss: 0.9712 - accuracy: 0.6384 - val_loss: 1.0393 - val_accuracy: 0.6059\n",
      "Epoch 50/100\n",
      "225/225 [==============================] - 310s 1s/step - loss: 0.9538 - accuracy: 0.6441 - val_loss: 1.0323 - val_accuracy: 0.6205\n",
      "Epoch 51/100\n",
      "225/225 [==============================] - 308s 1s/step - loss: 0.9605 - accuracy: 0.6417 - val_loss: 1.0303 - val_accuracy: 0.6156\n",
      "Epoch 52/100\n",
      "225/225 [==============================] - 323s 1s/step - loss: 0.9424 - accuracy: 0.6490 - val_loss: 1.0353 - val_accuracy: 0.6156\n",
      "Epoch 53/100\n",
      "225/225 [==============================] - 308s 1s/step - loss: 0.9478 - accuracy: 0.6487 - val_loss: 1.0251 - val_accuracy: 0.6233\n",
      "Epoch 54/100\n",
      "225/225 [==============================] - 13104s 58s/step - loss: 0.9399 - accuracy: 0.6467 - val_loss: 1.0233 - val_accuracy: 0.6187\n",
      "Epoch 55/100\n",
      "225/225 [==============================] - 639s 3s/step - loss: 0.9318 - accuracy: 0.6528 - val_loss: 1.0235 - val_accuracy: 0.6208\n",
      "Epoch 56/100\n",
      "225/225 [==============================] - 647s 3s/step - loss: 0.9224 - accuracy: 0.6544 - val_loss: 1.0242 - val_accuracy: 0.6251\n",
      "Epoch 57/100\n",
      "225/225 [==============================] - 637s 3s/step - loss: 0.9333 - accuracy: 0.6576 - val_loss: 1.0292 - val_accuracy: 0.6198\n",
      "Epoch 58/100\n",
      "225/225 [==============================] - 631s 3s/step - loss: 0.9231 - accuracy: 0.6554 - val_loss: 1.0337 - val_accuracy: 0.6204\n",
      "Epoch 59/100\n",
      "225/225 [==============================] - 623s 3s/step - loss: 0.9128 - accuracy: 0.6608 - val_loss: 1.0195 - val_accuracy: 0.6241\n",
      "Epoch 60/100\n",
      "225/225 [==============================] - 640s 3s/step - loss: 0.9112 - accuracy: 0.6633 - val_loss: 1.0229 - val_accuracy: 0.6199\n",
      "Epoch 61/100\n",
      "225/225 [==============================] - 590s 3s/step - loss: 0.9012 - accuracy: 0.6662 - val_loss: 1.0177 - val_accuracy: 0.6232\n",
      "Epoch 62/100\n",
      "225/225 [==============================] - 396s 2s/step - loss: 0.8986 - accuracy: 0.6658 - val_loss: 1.0109 - val_accuracy: 0.6289\n",
      "Epoch 63/100\n",
      "225/225 [==============================] - 345s 2s/step - loss: 0.8905 - accuracy: 0.6691 - val_loss: 1.0305 - val_accuracy: 0.6211\n",
      "Epoch 64/100\n",
      "225/225 [==============================] - 398s 2s/step - loss: 0.8814 - accuracy: 0.6707 - val_loss: 1.0238 - val_accuracy: 0.6230\n",
      "Epoch 65/100\n",
      "225/225 [==============================] - 410s 2s/step - loss: 0.8942 - accuracy: 0.6709 - val_loss: 1.0184 - val_accuracy: 0.6215\n",
      "Epoch 66/100\n",
      "225/225 [==============================] - 398s 2s/step - loss: 0.8799 - accuracy: 0.6725 - val_loss: 1.0196 - val_accuracy: 0.6213\n",
      "Epoch 67/100\n",
      "225/225 [==============================] - 397s 2s/step - loss: 0.8796 - accuracy: 0.6763 - val_loss: 1.0231 - val_accuracy: 0.6236\n",
      "Epoch 68/100\n",
      "225/225 [==============================] - 394s 2s/step - loss: 0.8706 - accuracy: 0.6752 - val_loss: 1.0292 - val_accuracy: 0.6244\n",
      "Epoch 69/100\n",
      "225/225 [==============================] - 471s 2s/step - loss: 0.8610 - accuracy: 0.6815 - val_loss: 1.0300 - val_accuracy: 0.6237\n",
      "Epoch 70/100\n",
      "225/225 [==============================] - 645s 3s/step - loss: 0.8589 - accuracy: 0.6838 - val_loss: 1.0177 - val_accuracy: 0.6222\n",
      "Epoch 71/100\n",
      "225/225 [==============================] - 659s 3s/step - loss: 0.8525 - accuracy: 0.6872 - val_loss: 1.0174 - val_accuracy: 0.6269\n",
      "Epoch 72/100\n",
      "225/225 [==============================] - 595s 3s/step - loss: 0.8483 - accuracy: 0.6845 - val_loss: 1.0284 - val_accuracy: 0.6232\n",
      "Epoch 73/100\n",
      "225/225 [==============================] - 425s 2s/step - loss: 0.8555 - accuracy: 0.6863 - val_loss: 1.0371 - val_accuracy: 0.6212\n",
      "Epoch 74/100\n",
      "225/225 [==============================] - 393s 2s/step - loss: 0.8385 - accuracy: 0.6885 - val_loss: 1.0282 - val_accuracy: 0.6273\n",
      "Epoch 75/100\n",
      "225/225 [==============================] - 340s 2s/step - loss: 0.8445 - accuracy: 0.6887 - val_loss: 1.0349 - val_accuracy: 0.6204\n",
      "Epoch 76/100\n",
      "225/225 [==============================] - 343s 2s/step - loss: 0.8367 - accuracy: 0.6904 - val_loss: 1.0236 - val_accuracy: 0.6273\n",
      "Epoch 77/100\n",
      "225/225 [==============================] - 336s 1s/step - loss: 0.8312 - accuracy: 0.6950 - val_loss: 1.0330 - val_accuracy: 0.6227\n",
      "Epoch 78/100\n",
      "225/225 [==============================] - 362s 2s/step - loss: 0.8272 - accuracy: 0.6974 - val_loss: 1.0253 - val_accuracy: 0.6294\n",
      "Epoch 79/100\n",
      "225/225 [==============================] - 379s 2s/step - loss: 0.8322 - accuracy: 0.6973 - val_loss: 1.0161 - val_accuracy: 0.6289\n",
      "Epoch 80/100\n",
      "225/225 [==============================] - 368s 2s/step - loss: 0.8132 - accuracy: 0.6996 - val_loss: 1.0278 - val_accuracy: 0.6268\n",
      "Epoch 81/100\n",
      "225/225 [==============================] - 367s 2s/step - loss: 0.8205 - accuracy: 0.6995 - val_loss: 1.0316 - val_accuracy: 0.6307\n",
      "Epoch 82/100\n",
      "225/225 [==============================] - 358s 2s/step - loss: 0.8038 - accuracy: 0.7068 - val_loss: 1.0300 - val_accuracy: 0.6240\n",
      "Epoch 83/100\n",
      "225/225 [==============================] - 597s 3s/step - loss: 0.8048 - accuracy: 0.7093 - val_loss: 1.0293 - val_accuracy: 0.6248\n",
      "Epoch 84/100\n",
      "225/225 [==============================] - 641s 3s/step - loss: 0.7941 - accuracy: 0.7098 - val_loss: 1.0212 - val_accuracy: 0.6287\n",
      "Epoch 85/100\n",
      "225/225 [==============================] - 633s 3s/step - loss: 0.7919 - accuracy: 0.7108 - val_loss: 1.0159 - val_accuracy: 0.6328\n",
      "Epoch 86/100\n",
      "225/225 [==============================] - 596s 3s/step - loss: 0.7921 - accuracy: 0.7117 - val_loss: 1.0256 - val_accuracy: 0.6282\n",
      "Epoch 87/100\n",
      "225/225 [==============================] - 423s 2s/step - loss: 0.7877 - accuracy: 0.7119 - val_loss: 1.0389 - val_accuracy: 0.6333\n",
      "Epoch 88/100\n",
      "225/225 [==============================] - 380s 2s/step - loss: 0.7851 - accuracy: 0.7170 - val_loss: 1.0265 - val_accuracy: 0.6374\n",
      "Epoch 89/100\n",
      "225/225 [==============================] - 337s 1s/step - loss: 0.7861 - accuracy: 0.7098 - val_loss: 1.0328 - val_accuracy: 0.6275\n",
      "Epoch 90/100\n",
      "225/225 [==============================] - 352s 2s/step - loss: 0.7761 - accuracy: 0.7198 - val_loss: 1.0286 - val_accuracy: 0.6257\n",
      "Epoch 91/100\n",
      "225/225 [==============================] - 357s 2s/step - loss: 0.7749 - accuracy: 0.7168 - val_loss: 1.0242 - val_accuracy: 0.6300\n",
      "Epoch 92/100\n",
      "225/225 [==============================] - 379s 2s/step - loss: 0.7839 - accuracy: 0.7147 - val_loss: 1.0276 - val_accuracy: 0.6314\n",
      "Epoch 93/100\n",
      "225/225 [==============================] - 359s 2s/step - loss: 0.7656 - accuracy: 0.7199 - val_loss: 1.0299 - val_accuracy: 0.6342\n",
      "Epoch 94/100\n",
      "225/225 [==============================] - 361s 2s/step - loss: 0.7593 - accuracy: 0.7232 - val_loss: 1.0353 - val_accuracy: 0.6282\n",
      "Epoch 95/100\n",
      "225/225 [==============================] - 359s 2s/step - loss: 0.7556 - accuracy: 0.7268 - val_loss: 1.0328 - val_accuracy: 0.6317\n",
      "Epoch 96/100\n",
      "225/225 [==============================] - 395s 2s/step - loss: 0.7550 - accuracy: 0.7236 - val_loss: 1.0205 - val_accuracy: 0.6322\n",
      "Epoch 97/100\n",
      "225/225 [==============================] - 392s 2s/step - loss: 0.7422 - accuracy: 0.7310 - val_loss: 1.0310 - val_accuracy: 0.6296\n",
      "Epoch 98/100\n",
      "225/225 [==============================] - 390s 2s/step - loss: 0.7480 - accuracy: 0.7281 - val_loss: 1.0324 - val_accuracy: 0.6330\n",
      "Epoch 99/100\n",
      "225/225 [==============================] - 336s 1s/step - loss: 0.7510 - accuracy: 0.7288 - val_loss: 1.0258 - val_accuracy: 0.6342\n",
      "Epoch 100/100\n",
      "225/225 [==============================] - 345s 2s/step - loss: 0.7371 - accuracy: 0.7326 - val_loss: 1.0241 - val_accuracy: 0.6376\n"
     ]
    },
    {
     "data": {
      "text/plain": [
       "<keras.src.callbacks.History at 0x1efe5ded590>"
      ]
     },
     "execution_count": 22,
     "metadata": {},
     "output_type": "execute_result"
    }
   ],
   "source": [
    "model.fit(x=X_train,y=y_train,batch_size=128,epochs=100,validation_data=(X_test,y_test))"
   ]
  },
  {
   "cell_type": "code",
   "execution_count": 23,
   "id": "ddac27e4",
   "metadata": {},
   "outputs": [
    {
     "name": "stderr",
     "output_type": "stream",
     "text": [
      "C:\\Users\\agarw\\AppData\\Local\\Programs\\Python\\Python311\\Lib\\site-packages\\keras\\src\\engine\\training.py:3079: UserWarning: You are saving your model as an HDF5 file via `model.save()`. This file format is considered legacy. We recommend using instead the native Keras format, e.g. `model.save('my_model.keras')`.\n",
      "  saving_api.save_model(\n"
     ]
    }
   ],
   "source": [
    "model_json=model.to_json()\n",
    "with open(\"emotiondectector.json\",\"w\") as f:\n",
    "    f.write(model_json)\n",
    "model.save(\"emotiondectector.h5\")"
   ]
  },
  {
   "cell_type": "code",
   "execution_count": 29,
   "id": "04f476de",
   "metadata": {
    "scrolled": true
   },
   "outputs": [],
   "source": [
    "# from keras.models import model_from_json\n",
    "# json_file=open(\"emotiondectector.h5\",\"rb\")\n",
    "# model_json=json_file.read()\n",
    "# json_file.close()\n",
    "# model=model_from_json(model_json)\n",
    "# model.load_weights(\"emotiondectector.h5\")"
   ]
  },
  {
   "cell_type": "code",
   "execution_count": 27,
   "id": "293725a4",
   "metadata": {},
   "outputs": [],
   "source": [
    "label=['angry','disgusted','fearful','happy','neutral','sad','surprised']"
   ]
  },
  {
   "cell_type": "code",
   "execution_count": 30,
   "id": "8ec67a34",
   "metadata": {},
   "outputs": [],
   "source": [
    "def ef(image):\n",
    "    img=load_img(image,grayscale=True)\n",
    "    feature = np.array(img)\n",
    "    feature = feature.reshape(1,48,48,1)\n",
    "    return feature/255.0"
   ]
  },
  {
   "cell_type": "code",
   "execution_count": 40,
   "id": "82d22bfb",
   "metadata": {},
   "outputs": [],
   "source": [
    "import matplotlib.pyplot as plt\n",
    "%matplotlib inline\n",
    "import cv2"
   ]
  },
  {
   "cell_type": "code",
   "execution_count": 44,
   "id": "6555f76b",
   "metadata": {},
   "outputs": [
    {
     "name": "stdout",
     "output_type": "stream",
     "text": [
      "orginal image is of disgusted\n",
      "1/1 [==============================] - 0s 45ms/step\n",
      "model predicition is  disgusted\n"
     ]
    },
    {
     "data": {
      "text/plain": [
       "<matplotlib.image.AxesImage at 0x1efebf869d0>"
      ]
     },
     "execution_count": 44,
     "metadata": {},
     "output_type": "execute_result"
    },
    {
     "data": {
      "image/png": "[encoded data removed]",
      "text/plain": [
       "<Figure size 640x480 with 1 Axes>"
      ]
     },
     "metadata": {},
     "output_type": "display_data"
    }
   ],
   "source": [
    "image='Emotion/train/disgusted/im100.png'\n",
    "img1=cv2.imread(image)\n",
    "print(\"orginal image is of disgusted\")\n",
    "img= ef(image)\n",
    "pred =model.predict(img)\n",
    "pred_label = label[pred.argmax()]\n",
    "print(\"model predicition is \",pred_label)\n",
    "# plt.imshow(img.reshape(48,48))\n",
    "plt.imshow(img1)"
   ]
  },
  {
   "cell_type": "code",
   "execution_count": 47,
   "id": "aec2022f",
   "metadata": {},
   "outputs": [
    {
     "name": "stdout",
     "output_type": "stream",
     "text": [
      "orginal image is of happy\n",
      "1/1 [==============================] - 0s 40ms/step\n",
      "model predicition is  happy\n"
     ]
    },
    {
     "data": {
      "text/plain": [
       "<matplotlib.image.AxesImage at 0x1efed2767d0>"
      ]
     },
     "execution_count": 47,
     "metadata": {},
     "output_type": "execute_result"
    },
    {
     "data": {
      "image/png": "[encoded data removed]",
      "text/plain": [
       "<Figure size 640x480 with 1 Axes>"
      ]
     },
     "metadata": {},
     "output_type": "display_data"
    }
   ],
   "source": [
    "image='Emotion/train/happy/im100.png'\n",
    "img1=cv2.imread(image)\n",
    "print(\"orginal image is of happy\")\n",
    "img= ef(image)\n",
    "pred =model.predict(img)\n",
    "pred_label = label[pred.argmax()]\n",
    "print(\"model predicition is \",pred_label)\n",
    "# plt.imshow(img.reshape(48,48))\n",
    "plt.imshow(img1)"
   ]
  },
  {
   "cell_type": "code",
   "execution_count": 48,
   "id": "b59e3456",
   "metadata": {},
   "outputs": [
    {
     "name": "stdout",
     "output_type": "stream",
     "text": [
      "orginal image is of angry\n",
      "1/1 [==============================] - 0s 59ms/step\n",
      "model predicition is  angry\n"
     ]
    },
    {
     "data": {
      "text/plain": [
       "<matplotlib.image.AxesImage at 0x1efed0d0390>"
      ]
     },
     "execution_count": 48,
     "metadata": {},
     "output_type": "execute_result"
    },
    {
     "data": {
      "image/png": "[encoded data removed]",
      "text/plain": [
       "<Figure size 640x480 with 1 Axes>"
      ]
     },
     "metadata": {},
     "output_type": "display_data"
    }
   ],
   "source": [
    "image='Emotion/train/angry/im100.png'\n",
    "img1=cv2.imread(image)\n",
    "print(\"orginal image is of angry\")\n",
    "img= ef(image)\n",
    "pred =model.predict(img)\n",
    "pred_label = label[pred.argmax()]\n",
    "print(\"model predicition is \",pred_label)\n",
    "# plt.imshow(img.reshape(48,48))\n",
    "plt.imshow(img1)"
   ]
  },
  {
   "cell_type": "code",
   "execution_count": 49,
   "id": "f9770317",
   "metadata": {},
   "outputs": [
    {
     "name": "stdout",
     "output_type": "stream",
     "text": [
      "orginal image is of surprised\n",
      "1/1 [==============================] - 0s 37ms/step\n",
      "model predicition is  surprised\n"
     ]
    },
    {
     "data": {
      "text/plain": [
       "<matplotlib.image.AxesImage at 0x1efed0f78d0>"
      ]
     },
     "execution_count": 49,
     "metadata": {},
     "output_type": "execute_result"
    },
    {
     "data": {
      "image/png": "[encoded data removed]",
      "text/plain": [
       "<Figure size 640x480 with 1 Axes>"
      ]
     },
     "metadata": {},
     "output_type": "display_data"
    }
   ],
   "source": [
    "image='Emotion/train/surprised/im100.png'\n",
    "img1=cv2.imread(image)\n",
    "print(\"orginal image is of surprised\")\n",
    "img= ef(image)\n",
    "pred =model.predict(img)\n",
    "pred_label = label[pred.argmax()]\n",
    "print(\"model predicition is \",pred_label)\n",
    "# plt.imshow(img.reshape(48,48))\n",
    "plt.imshow(img1)"
   ]
  },
  {
   "cell_type": "code",
   "execution_count": null,
   "id": "a9f6ae70",
   "metadata": {},
   "outputs": [],
   "source": []
  }
 ],
 "metadata": {
  "kernelspec": {
   "display_name": "Python 3 (ipykernel)",
   "language": "python",
   "name": "python3"
  },
  "language_info": {
   "codemirror_mode": {
    "name": "ipython",
    "version": 3
   },
   "file_extension": ".py",
   "mimetype": "text/x-python",
   "name": "python",
   "nbconvert_exporter": "python",
   "pygments_lexer": "ipython3",
   "version": "3.11.3"
  }
 },
 "nbformat": 4,
 "nbformat_minor": 5
}
